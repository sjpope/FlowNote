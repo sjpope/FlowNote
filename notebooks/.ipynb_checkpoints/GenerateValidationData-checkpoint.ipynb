{
 "cells": [
  {
   "cell_type": "code",
   "execution_count": 3,
   "id": "a35b355b-97e0-4e5d-83b8-bc414dc5fcf9",
   "metadata": {},
   "outputs": [
    {
     "name": "stdout",
     "output_type": "stream",
     "text": [
      "ValidationNotes.txt has been created with enhanced entries for validation.\n"
     ]
    }
   ],
   "source": [
    "import random\n",
    "\n",
    "def generate_sentence():\n",
    "    \"\"\"Generate a complex sentence with varying length and academic focus.\"\"\"\n",
    "    subjects = [\"researcher\", \"experiment\", \"study\", \"data\", \"theory\", \"professor\"]\n",
    "    verbs = [\"analyzes\", \"supports\", \"contradicts\", \"explores\", \"describes\", \"presents\"]\n",
    "    adjectives = [\"detailed\", \"comprehensive\", \"quantitative\", \"innovative\", \"controversial\", \"critical\"]\n",
    "    nouns = [\"results\", \"hypothesis\", \"methodology\", \"analysis\", \"conclusion\", \"perspective\"]\n",
    "    conjunctions = [\"while\", \"although\", \"whereas\", \"since\", \"if\", \"after\"]\n",
    "    prepositions = [\"in\", \"on\", \"at\", \"between\", \"with\", \"by\"]\n",
    "\n",
    "    # Create the base sentence\n",
    "    base = f\"The {random.choice(adjectives)} {random.choice(subjects)} {random.choice(verbs)} the {random.choice(nouns)}\"\n",
    "    \n",
    "    # Decide randomly to add a secondary clause\n",
    "    if random.choice([True, False]):\n",
    "        secondary = f\"{random.choice(conjunctions)} the {random.choice(subjects)} {random.choice(prepositions)} the {random.choice(nouns)} {random.choice(verbs)} the {random.choice(adjectives)} {random.choice(nouns)}\"\n",
    "        sentence = f\"{base} {secondary}.\"\n",
    "    else:\n",
    "        sentence = f\"{base}.\"\n",
    "\n",
    "    return sentence\n",
    "\n",
    "# Number of entries per task\n",
    "n_entries = 5\n",
    "\n",
    "with open('ValidationNotes.txt', 'w', encoding='utf-8') as file:\n",
    "    for i in range(n_entries):\n",
    "        # Generate data for autocomplete\n",
    "        sentence = generate_sentence()\n",
    "        noun = sentence.split()[-2]  # Grab a noun from the sentence for the autocomplete task\n",
    "        autocomplete_entry = f\"Topic: Autocomplete Example\\nContent:\\n{sentence}\\nWhat will {noun} do next?\\n\\n\"\n",
    "        file.write(autocomplete_entry)\n",
    "\n",
    "        # Generate data for summarization\n",
    "        sentences = [generate_sentence() for _ in range(3)]\n",
    "        summary_content = \" \".join(sentences)\n",
    "        summarization_entry = f\"Topic: Summarization Example\\nContent:\\n{summary_content}\\nSummary:\\nThis text discusses various academic actions and theories.\\n\\n\"\n",
    "        file.write(summarization_entry)\n",
    "\n",
    "        # Generate data for keyword extraction\n",
    "        keyword_sentence = generate_sentence()\n",
    "        keywords = ', '.join(set(keyword_sentence.replace(',', '').replace('.', '').split()))\n",
    "        keyword_entry = f\"Topic: Keyword Extraction Example\\nContent:\\n{keyword_sentence}\\nKeywords:\\n{keywords}\\n\\n\"\n",
    "        file.write(keyword_entry)\n",
    "\n",
    "print(\"ValidationNotes.txt has been created with enhanced entries for validation.\")\n"
   ]
  },
  {
   "cell_type": "code",
   "execution_count": null,
   "id": "9622262a-be46-4876-b894-31aea89650cf",
   "metadata": {},
   "outputs": [],
   "source": []
  }
 ],
 "metadata": {
  "kernelspec": {
   "display_name": "Python 3 (ipykernel)",
   "language": "python",
   "name": "python3"
  },
  "language_info": {
   "codemirror_mode": {
    "name": "ipython",
    "version": 3
   },
   "file_extension": ".py",
   "mimetype": "text/x-python",
   "name": "python",
   "nbconvert_exporter": "python",
   "pygments_lexer": "ipython3",
   "version": "3.12.2"
  }
 },
 "nbformat": 4,
 "nbformat_minor": 5
}
